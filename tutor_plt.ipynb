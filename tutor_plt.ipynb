{
 "cells": [
  {
   "cell_type": "code",
   "execution_count": null,
   "metadata": {},
   "outputs": [],
   "source": [
    "import matplotlib.pyplot as plt\n",
    "import numpy as np\n",
    "\n",
    "x = np.linspace(0, 2 * np.pi, 200)  # generates 200 evenly spaced points between 0 and 2π\n",
    "print(type(x), x.shape) # <class 'numpy.ndarray'> (200,)\n",
    "y = np.sin(x)\n",
    "print(type(y), y.shape) # <class 'numpy.ndarray'> (200,)\n",
    "\n",
    "fig, ax = plt.subplots()  # return a tuple[Figure, Axes]\n",
    "print(type(fig), type(ax)) # <class 'matplotlib.figure.Figure'> <class 'matplotlib.axes._axes.Axes'>\n",
    "ax.plot(x, y)\n",
    "plt.show()\n"
   ]
  },
  {
   "cell_type": "code",
   "execution_count": null,
   "metadata": {},
   "outputs": [],
   "source": [
    "import numpy as np\n",
    "import matplotlib.pyplot as plt\n",
    "from matplotlib.widgets import Button\n",
    "%matplotlib widget\n",
    "\n",
    "freqs = np.arange(2, 20, 3)\n",
    "\n",
    "fig, ax = plt.subplots()\n",
    "fig.subplots_adjust(bottom=0.2)\n",
    "t = np.arange(0.0, 1.0, 0.001)\n",
    "s = np.sin(2 * np.pi * freqs[0] * t)\n",
    "(l,) = ax.plot(t, s, lw=2)\n",
    "\n",
    "\n",
    "class Index:\n",
    "    ind = 0\n",
    "\n",
    "    def next(self, event):\n",
    "        self.ind += 1\n",
    "        i = self.ind % len(freqs)\n",
    "        ydata = np.sin(2 * np.pi * freqs[i] * t)\n",
    "        l.set_ydata(ydata)\n",
    "        plt.draw()\n",
    "\n",
    "    def prev(self, event):\n",
    "        self.ind -= 1\n",
    "        i = self.ind % len(freqs)\n",
    "        ydata = np.sin(2 * np.pi * freqs[i] * t)\n",
    "        l.set_ydata(ydata)\n",
    "        plt.draw()\n",
    "\n",
    "\n",
    "callback = Index()\n",
    "axprev = fig.add_axes([0.7, 0.05, 0.1, 0.075])\n",
    "axnext = fig.add_axes([0.81, 0.05, 0.1, 0.075])\n",
    "bnext = Button(axnext, \"Next\")\n",
    "bnext.on_clicked(callback.next)\n",
    "bprev = Button(axprev, \"Previous\")\n",
    "bprev.on_clicked(callback.prev)\n",
    "\n",
    "plt.show()"
   ]
  }
 ],
 "metadata": {
  "kernelspec": {
   "display_name": "Python 3",
   "language": "python",
   "name": "python3"
  },
  "language_info": {
   "codemirror_mode": {
    "name": "ipython",
    "version": 3
   },
   "file_extension": ".py",
   "mimetype": "text/x-python",
   "name": "python",
   "nbconvert_exporter": "python",
   "pygments_lexer": "ipython3",
   "version": "3.10.8"
  },
  "orig_nbformat": 4
 },
 "nbformat": 4,
 "nbformat_minor": 2
}
